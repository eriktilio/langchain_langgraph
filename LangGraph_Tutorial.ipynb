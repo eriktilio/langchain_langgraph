{
 "cells": [
  {
   "cell_type": "markdown",
   "id": "cd7bdf8b",
   "metadata": {},
   "source": [
    "# Setup"
   ]
  },
  {
   "cell_type": "code",
   "execution_count": 1,
   "id": "d136aba4",
   "metadata": {},
   "outputs": [],
   "source": [
    "from langgraph.graph import StateGraph\n",
    "from langchain_google_genai import ChatGoogleGenerativeAI\n",
    "from langchain_core.runnables import RunnableLambda\n",
    "from langchain.prompts import ChatPromptTemplate\n",
    "from duckduckgo_search import DDGS\n",
    "from typing import TypedDict\n",
    "import os\n",
    "import yaml"
   ]
  },
  {
   "cell_type": "code",
   "execution_count": 2,
   "id": "7229c7a3",
   "metadata": {},
   "outputs": [],
   "source": [
    "with open(\"config.yaml\", \"r\") as file:\n",
    "    config = yaml.safe_load(file)\n",
    "os.environ[\"GOOGLE_API_KEY\"] = config[\"GOOGLE_API_KEY\"]"
   ]
  },
  {
   "cell_type": "markdown",
   "id": "8a1915ef",
   "metadata": {},
   "source": [
    "# LLM"
   ]
  },
  {
   "cell_type": "code",
   "execution_count": 3,
   "id": "3801d684",
   "metadata": {},
   "outputs": [],
   "source": [
    "llm = ChatGoogleGenerativeAI(model=\"gemini-2.0-flash\", temperature=0)"
   ]
  },
  {
   "cell_type": "markdown",
   "id": "6b799402",
   "metadata": {},
   "source": [
    "# State"
   ]
  },
  {
   "cell_type": "code",
   "execution_count": 4,
   "id": "420a9ded",
   "metadata": {},
   "outputs": [],
   "source": [
    "class QAState(TypedDict):\n",
    "    question: str\n",
    "    answer: str"
   ]
  },
  {
   "cell_type": "markdown",
   "id": "1703c1a0",
   "metadata": {},
   "source": [
    "# Callback Functions"
   ]
  },
  {
   "cell_type": "code",
   "execution_count": 5,
   "id": "ba5d1354",
   "metadata": {},
   "outputs": [],
   "source": [
    "def receive_question(state: QAState) -> QAState:\n",
    "    return state\n",
    "\n",
    "def web_search(state: QAState) -> QAState:\n",
    "    question = state[\"question\"]\n",
    "\n",
    "    with DDGS() as ddgs:\n",
    "        results = ddgs.text(question, max_results=1)\n",
    "\n",
    "    context = \"\\n\".join([r[\"body\"] for r in results if \"body\" in r]) if results else \"Nenhum resultado encontrado.\"\n",
    "\n",
    "    prompt = ChatPromptTemplate.from_template(\n",
    "    \"\"\"Use o seguinte contexto para responder à pergunta:\n",
    "    Contexto: {context}\n",
    "    Pergunta: {question}\n",
    "    Resposta:\"\"\"\n",
    "    )\n",
    "\n",
    "    chain = prompt | llm\n",
    "    answer = chain.invoke({\"context\": context, \"question\": question})\n",
    "\n",
    "    return {\"question\": question, \"answer\": answer.content}\n",
    "\n",
    "def model_answer(state: QAState) -> QAState:\n",
    "    question = state[\"question\"]\n",
    "    prompt = ChatPromptTemplate.from_template(\"Responda à seguinte pergunta: {question}\")\n",
    "    chain = prompt | llm\n",
    "    answer = chain.invoke({\"question\": state[\"question\"]})\n",
    "    return {\"question\": question, \"answer\": answer.content}\n",
    "\n",
    "def show_result(state: QAState) -> QAState:\n",
    "    print(\"Resposta final:\")\n",
    "    print(state[\"answer\"])\n",
    "    return state"
   ]
  },
  {
   "cell_type": "code",
   "execution_count": 6,
   "id": "63bdbf8e",
   "metadata": {},
   "outputs": [],
   "source": [
    "def decide_route(state: QAState) -> QAState:\n",
    "    question = state[\"question\"].lower()\n",
    "    next_step = \"web\" if any(word in question for word in [\"hoje\", \"agora\", \"notícia\", \"notícias\"]) else \"llm\"\n",
    "    return {**state, \"next_step\": next_step}\n"
   ]
  },
  {
   "cell_type": "markdown",
   "id": "6d437e4d",
   "metadata": {},
   "source": [
    "# Graph"
   ]
  },
  {
   "cell_type": "code",
   "execution_count": 7,
   "id": "10afdf29",
   "metadata": {},
   "outputs": [],
   "source": [
    "builder = StateGraph(QAState)"
   ]
  },
  {
   "cell_type": "markdown",
   "id": "392c93c7",
   "metadata": {},
   "source": [
    "# Nodes"
   ]
  },
  {
   "cell_type": "code",
   "execution_count": 8,
   "id": "53a1c3a3",
   "metadata": {},
   "outputs": [
    {
     "data": {
      "text/plain": [
       "<langgraph.graph.state.StateGraph at 0x219fd402270>"
      ]
     },
     "execution_count": 8,
     "metadata": {},
     "output_type": "execute_result"
    }
   ],
   "source": [
    "builder.add_node(\"receive_question\", RunnableLambda(receive_question))\n",
    "builder.add_node(\"decide_route\", RunnableLambda(decide_route))\n",
    "builder.add_node(\"web_search\", RunnableLambda(web_search))\n",
    "builder.add_node(\"model_answer\", RunnableLambda(model_answer))\n",
    "builder.add_node(\"show_result\", RunnableLambda(show_result))"
   ]
  },
  {
   "cell_type": "markdown",
   "id": "74477a81",
   "metadata": {},
   "source": [
    "# Edges & State Conditions"
   ]
  },
  {
   "cell_type": "code",
   "execution_count": 9,
   "id": "2d9179e2",
   "metadata": {},
   "outputs": [
    {
     "data": {
      "text/plain": [
       "<langgraph.graph.state.StateGraph at 0x219fd402270>"
      ]
     },
     "execution_count": 9,
     "metadata": {},
     "output_type": "execute_result"
    }
   ],
   "source": [
    "builder.set_entry_point(\"receive_question\")\n",
    "builder.add_edge(\"receive_question\", \"decide_route\")\n",
    "builder.add_conditional_edges(\n",
    "    \"decide_route\",\n",
    "    lambda state: state[\"next_step\"],\n",
    "    {\n",
    "        \"web\": \"web_search\",\n",
    "        \"llm\": \"model_answer\"\n",
    "    }\n",
    ")\n",
    "builder.add_edge(\"web_search\", \"show_result\")\n",
    "builder.add_edge(\"model_answer\", \"show_result\")\n",
    "builder.set_finish_point(\"show_result\")"
   ]
  },
  {
   "cell_type": "markdown",
   "id": "3a07dec1",
   "metadata": {},
   "source": [
    "# Execution"
   ]
  },
  {
   "cell_type": "code",
   "execution_count": 10,
   "id": "a38e9c83",
   "metadata": {},
   "outputs": [
    {
     "name": "stdout",
     "output_type": "stream",
     "text": [
      "[TEST 1]\n",
      "Resposta final:\n",
      "A capital do Brasil é **Brasília**.\n",
      "\n",
      "[TEST 2]\n",
      "Resposta final:\n",
      "A resposta, baseada no contexto fornecido, seria:\n",
      "\n",
      "\"As últimas notícias do Brasil abrangem política, economia, emprego, educação, saúde, meio ambiente, tecnologia, ciência, cultura e carros. Para informações mais detalhadas, você pode assistir aos vídeos dos telejornais da TV Globo e da GloboNews.\"\n"
     ]
    },
    {
     "data": {
      "text/plain": [
       "{'question': 'Quais as últimas notícias do brasil?',\n",
       " 'answer': 'A resposta, baseada no contexto fornecido, seria:\\n\\n\"As últimas notícias do Brasil abrangem política, economia, emprego, educação, saúde, meio ambiente, tecnologia, ciência, cultura e carros. Para informações mais detalhadas, você pode assistir aos vídeos dos telejornais da TV Globo e da GloboNews.\"'}"
      ]
     },
     "execution_count": 10,
     "metadata": {},
     "output_type": "execute_result"
    }
   ],
   "source": [
    "graph = builder.compile()\n",
    "\n",
    "print(\"[TEST 1]\")\n",
    "graph.invoke({\"question\": \"Qual a capital do Brasil?\"})\n",
    "print(\"\\n[TEST 2]\")\n",
    "graph.invoke({\"question\": \"Quais as últimas notícias do brasil?\"})"
   ]
  },
  {
   "cell_type": "markdown",
   "id": "894cf04d",
   "metadata": {},
   "source": [
    "# Completions"
   ]
  },
  {
   "cell_type": "code",
   "execution_count": 11,
   "id": "79e8cefe",
   "metadata": {},
   "outputs": [
    {
     "name": "stdout",
     "output_type": "stream",
     "text": [
      "---\n",
      "config:\n",
      "  flowchart:\n",
      "    curve: linear\n",
      "---\n",
      "graph TD;\n",
      "\t__start__([<p>__start__</p>]):::first\n",
      "\treceive_question(receive_question)\n",
      "\tdecide_route(decide_route)\n",
      "\tweb_search(web_search)\n",
      "\tmodel_answer(model_answer)\n",
      "\tshow_result(show_result)\n",
      "\t__end__([<p>__end__</p>]):::last\n",
      "\t__start__ --> receive_question;\n",
      "\tdecide_route -. &nbsp;llm&nbsp; .-> model_answer;\n",
      "\tdecide_route -. &nbsp;web&nbsp; .-> web_search;\n",
      "\tmodel_answer --> show_result;\n",
      "\treceive_question --> decide_route;\n",
      "\tweb_search --> show_result;\n",
      "\tshow_result --> __end__;\n",
      "\tclassDef default fill:#f2f0ff,line-height:1.2\n",
      "\tclassDef first fill-opacity:0\n",
      "\tclassDef last fill:#bfb6fc\n",
      "\n"
     ]
    }
   ],
   "source": [
    "dot = graph.get_graph().draw_mermaid()\n",
    "\n",
    "print(dot)"
   ]
  }
 ],
 "metadata": {
  "kernelspec": {
   "display_name": ".venv",
   "language": "python",
   "name": "python3"
  },
  "language_info": {
   "codemirror_mode": {
    "name": "ipython",
    "version": 3
   },
   "file_extension": ".py",
   "mimetype": "text/x-python",
   "name": "python",
   "nbconvert_exporter": "python",
   "pygments_lexer": "ipython3",
   "version": "3.13.2"
  }
 },
 "nbformat": 4,
 "nbformat_minor": 5
}
